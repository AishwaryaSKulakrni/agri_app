{
 "metadata": {
  "language_info": {
   "codemirror_mode": {
    "name": "ipython",
    "version": 3
   },
   "file_extension": ".py",
   "mimetype": "text/x-python",
   "name": "python",
   "nbconvert_exporter": "python",
   "pygments_lexer": "ipython3",
   "version": "3.8.5"
  },
  "orig_nbformat": 2,
  "kernelspec": {
   "name": "python3",
   "display_name": "Python 3.8.5 64-bit ('base': conda)"
  },
  "interpreter": {
   "hash": "4173e61062b72e58ca759f5a37a092af53a05ca64836eca210f40da6df576f0a"
  }
 },
 "nbformat": 4,
 "nbformat_minor": 2,
 "cells": [
  {
   "cell_type": "code",
   "execution_count": 1,
   "source": [
    "from __future__ import print_function\r\n",
    "import pandas as pd\r\n",
    "import numpy as np\r\n",
    "import matplotlib.pyplot as plt\r\n",
    "import seaborn as sns\r\n",
    "from sklearn.metrics import classification_report\r\n",
    "from sklearn.metrics import precision_score\r\n",
    "from sklearn import metrics\r\n",
    "from sklearn import tree\r\n",
    "import warnings\r\n",
    "warnings.filterwarnings('ignore')"
   ],
   "outputs": [],
   "metadata": {}
  },
  {
   "cell_type": "code",
   "execution_count": 2,
   "source": [
    "# Reading dataset\r\n",
    "df = pd.read_csv(r\"soil.csv\")"
   ],
   "outputs": [],
   "metadata": {}
  },
  {
   "cell_type": "code",
   "execution_count": 3,
   "source": [
    "df.shape"
   ],
   "outputs": [
    {
     "output_type": "execute_result",
     "data": {
      "text/plain": [
       "(2198, 8)"
      ]
     },
     "metadata": {},
     "execution_count": 3
    }
   ],
   "metadata": {}
  },
  {
   "cell_type": "code",
   "execution_count": 4,
   "source": [
    "df.info()"
   ],
   "outputs": [
    {
     "output_type": "stream",
     "name": "stdout",
     "text": [
      "<class 'pandas.core.frame.DataFrame'>\n",
      "RangeIndex: 2198 entries, 0 to 2197\n",
      "Data columns (total 8 columns):\n",
      " #   Column       Non-Null Count  Dtype  \n",
      "---  ------       --------------  -----  \n",
      " 0   N            2198 non-null   int64  \n",
      " 1   P            2198 non-null   int64  \n",
      " 2   K            2198 non-null   int64  \n",
      " 3   temperature  2198 non-null   float64\n",
      " 4   humidity     2198 non-null   float64\n",
      " 5   ph           2198 non-null   float64\n",
      " 6   rainfall     2198 non-null   float64\n",
      " 7   Crop         2198 non-null   object \n",
      "dtypes: float64(4), int64(3), object(1)\n",
      "memory usage: 137.5+ KB\n"
     ]
    }
   ],
   "metadata": {}
  },
  {
   "cell_type": "code",
   "execution_count": 5,
   "source": [
    "df.describe()"
   ],
   "outputs": [
    {
     "output_type": "execute_result",
     "data": {
      "text/plain": [
       "                 N            P            K  temperature     humidity  \\\n",
       "count  2198.000000  2198.000000  2198.000000  2198.000000  2198.000000   \n",
       "mean     50.592357    53.393540    48.161056    25.615518    71.459841   \n",
       "std      36.909445    32.985028    50.669424     5.065824    22.261715   \n",
       "min       0.000000     5.000000     5.000000     8.825675    14.258040   \n",
       "25%      21.000000    28.000000    20.000000    22.767412    60.248775   \n",
       "50%      37.000000    51.000000    32.000000    25.598693    80.464995   \n",
       "75%      84.750000    68.000000    49.000000    28.561966    89.933202   \n",
       "max     140.000000   145.000000   205.000000    43.675493    99.981876   \n",
       "\n",
       "                ph     rainfall  \n",
       "count  2198.000000  2198.000000  \n",
       "mean      6.469600   103.393322  \n",
       "std       0.774279    54.933864  \n",
       "min       3.504752    20.211267  \n",
       "25%       5.971452    64.537413  \n",
       "50%       6.425675    94.772563  \n",
       "75%       6.923909   124.075856  \n",
       "max       9.935091   298.560117  "
      ],
      "text/html": [
       "<div>\n",
       "<style scoped>\n",
       "    .dataframe tbody tr th:only-of-type {\n",
       "        vertical-align: middle;\n",
       "    }\n",
       "\n",
       "    .dataframe tbody tr th {\n",
       "        vertical-align: top;\n",
       "    }\n",
       "\n",
       "    .dataframe thead th {\n",
       "        text-align: right;\n",
       "    }\n",
       "</style>\n",
       "<table border=\"1\" class=\"dataframe\">\n",
       "  <thead>\n",
       "    <tr style=\"text-align: right;\">\n",
       "      <th></th>\n",
       "      <th>N</th>\n",
       "      <th>P</th>\n",
       "      <th>K</th>\n",
       "      <th>temperature</th>\n",
       "      <th>humidity</th>\n",
       "      <th>ph</th>\n",
       "      <th>rainfall</th>\n",
       "    </tr>\n",
       "  </thead>\n",
       "  <tbody>\n",
       "    <tr>\n",
       "      <th>count</th>\n",
       "      <td>2198.000000</td>\n",
       "      <td>2198.000000</td>\n",
       "      <td>2198.000000</td>\n",
       "      <td>2198.000000</td>\n",
       "      <td>2198.000000</td>\n",
       "      <td>2198.000000</td>\n",
       "      <td>2198.000000</td>\n",
       "    </tr>\n",
       "    <tr>\n",
       "      <th>mean</th>\n",
       "      <td>50.592357</td>\n",
       "      <td>53.393540</td>\n",
       "      <td>48.161056</td>\n",
       "      <td>25.615518</td>\n",
       "      <td>71.459841</td>\n",
       "      <td>6.469600</td>\n",
       "      <td>103.393322</td>\n",
       "    </tr>\n",
       "    <tr>\n",
       "      <th>std</th>\n",
       "      <td>36.909445</td>\n",
       "      <td>32.985028</td>\n",
       "      <td>50.669424</td>\n",
       "      <td>5.065824</td>\n",
       "      <td>22.261715</td>\n",
       "      <td>0.774279</td>\n",
       "      <td>54.933864</td>\n",
       "    </tr>\n",
       "    <tr>\n",
       "      <th>min</th>\n",
       "      <td>0.000000</td>\n",
       "      <td>5.000000</td>\n",
       "      <td>5.000000</td>\n",
       "      <td>8.825675</td>\n",
       "      <td>14.258040</td>\n",
       "      <td>3.504752</td>\n",
       "      <td>20.211267</td>\n",
       "    </tr>\n",
       "    <tr>\n",
       "      <th>25%</th>\n",
       "      <td>21.000000</td>\n",
       "      <td>28.000000</td>\n",
       "      <td>20.000000</td>\n",
       "      <td>22.767412</td>\n",
       "      <td>60.248775</td>\n",
       "      <td>5.971452</td>\n",
       "      <td>64.537413</td>\n",
       "    </tr>\n",
       "    <tr>\n",
       "      <th>50%</th>\n",
       "      <td>37.000000</td>\n",
       "      <td>51.000000</td>\n",
       "      <td>32.000000</td>\n",
       "      <td>25.598693</td>\n",
       "      <td>80.464995</td>\n",
       "      <td>6.425675</td>\n",
       "      <td>94.772563</td>\n",
       "    </tr>\n",
       "    <tr>\n",
       "      <th>75%</th>\n",
       "      <td>84.750000</td>\n",
       "      <td>68.000000</td>\n",
       "      <td>49.000000</td>\n",
       "      <td>28.561966</td>\n",
       "      <td>89.933202</td>\n",
       "      <td>6.923909</td>\n",
       "      <td>124.075856</td>\n",
       "    </tr>\n",
       "    <tr>\n",
       "      <th>max</th>\n",
       "      <td>140.000000</td>\n",
       "      <td>145.000000</td>\n",
       "      <td>205.000000</td>\n",
       "      <td>43.675493</td>\n",
       "      <td>99.981876</td>\n",
       "      <td>9.935091</td>\n",
       "      <td>298.560117</td>\n",
       "    </tr>\n",
       "  </tbody>\n",
       "</table>\n",
       "</div>"
      ]
     },
     "metadata": {},
     "execution_count": 5
    }
   ],
   "metadata": {}
  },
  {
   "cell_type": "code",
   "execution_count": 6,
   "source": [
    "df.columns"
   ],
   "outputs": [
    {
     "output_type": "execute_result",
     "data": {
      "text/plain": [
       "Index(['N', 'P', 'K', 'temperature', 'humidity', 'ph', 'rainfall', 'Crop'], dtype='object')"
      ]
     },
     "metadata": {},
     "execution_count": 6
    }
   ],
   "metadata": {}
  },
  {
   "cell_type": "code",
   "execution_count": 7,
   "source": [
    "df.head()"
   ],
   "outputs": [
    {
     "output_type": "execute_result",
     "data": {
      "text/plain": [
       "    N   P   K  temperature   humidity        ph    rainfall  Crop\n",
       "0  90  42  43    20.879744  82.002744  6.502985  202.935536  rice\n",
       "1  85  58  41    21.770462  80.319644  7.038096  226.655537  rice\n",
       "2  60  55  44    23.004459  82.320763  7.840207  263.964248  rice\n",
       "3  74  35  40    26.491096  80.158363  6.980401  242.864034  rice\n",
       "4  78  42  42    20.130175  81.604873  7.628473  262.717340  rice"
      ],
      "text/html": [
       "<div>\n",
       "<style scoped>\n",
       "    .dataframe tbody tr th:only-of-type {\n",
       "        vertical-align: middle;\n",
       "    }\n",
       "\n",
       "    .dataframe tbody tr th {\n",
       "        vertical-align: top;\n",
       "    }\n",
       "\n",
       "    .dataframe thead th {\n",
       "        text-align: right;\n",
       "    }\n",
       "</style>\n",
       "<table border=\"1\" class=\"dataframe\">\n",
       "  <thead>\n",
       "    <tr style=\"text-align: right;\">\n",
       "      <th></th>\n",
       "      <th>N</th>\n",
       "      <th>P</th>\n",
       "      <th>K</th>\n",
       "      <th>temperature</th>\n",
       "      <th>humidity</th>\n",
       "      <th>ph</th>\n",
       "      <th>rainfall</th>\n",
       "      <th>Crop</th>\n",
       "    </tr>\n",
       "  </thead>\n",
       "  <tbody>\n",
       "    <tr>\n",
       "      <th>0</th>\n",
       "      <td>90</td>\n",
       "      <td>42</td>\n",
       "      <td>43</td>\n",
       "      <td>20.879744</td>\n",
       "      <td>82.002744</td>\n",
       "      <td>6.502985</td>\n",
       "      <td>202.935536</td>\n",
       "      <td>rice</td>\n",
       "    </tr>\n",
       "    <tr>\n",
       "      <th>1</th>\n",
       "      <td>85</td>\n",
       "      <td>58</td>\n",
       "      <td>41</td>\n",
       "      <td>21.770462</td>\n",
       "      <td>80.319644</td>\n",
       "      <td>7.038096</td>\n",
       "      <td>226.655537</td>\n",
       "      <td>rice</td>\n",
       "    </tr>\n",
       "    <tr>\n",
       "      <th>2</th>\n",
       "      <td>60</td>\n",
       "      <td>55</td>\n",
       "      <td>44</td>\n",
       "      <td>23.004459</td>\n",
       "      <td>82.320763</td>\n",
       "      <td>7.840207</td>\n",
       "      <td>263.964248</td>\n",
       "      <td>rice</td>\n",
       "    </tr>\n",
       "    <tr>\n",
       "      <th>3</th>\n",
       "      <td>74</td>\n",
       "      <td>35</td>\n",
       "      <td>40</td>\n",
       "      <td>26.491096</td>\n",
       "      <td>80.158363</td>\n",
       "      <td>6.980401</td>\n",
       "      <td>242.864034</td>\n",
       "      <td>rice</td>\n",
       "    </tr>\n",
       "    <tr>\n",
       "      <th>4</th>\n",
       "      <td>78</td>\n",
       "      <td>42</td>\n",
       "      <td>42</td>\n",
       "      <td>20.130175</td>\n",
       "      <td>81.604873</td>\n",
       "      <td>7.628473</td>\n",
       "      <td>262.717340</td>\n",
       "      <td>rice</td>\n",
       "    </tr>\n",
       "  </tbody>\n",
       "</table>\n",
       "</div>"
      ]
     },
     "metadata": {},
     "execution_count": 7
    }
   ],
   "metadata": {}
  },
  {
   "cell_type": "code",
   "execution_count": 8,
   "source": [
    "df.tail()"
   ],
   "outputs": [
    {
     "output_type": "execute_result",
     "data": {
      "text/plain": [
       "        N   P   K  temperature   humidity        ph    rainfall    Crop\n",
       "2193  107  34  32    26.774637  66.413269  6.780064  177.774507  coffee\n",
       "2194   99  15  27    27.417112  56.636362  6.086922  127.924610  coffee\n",
       "2195  118  33  30    24.131797  67.225123  6.362608  173.322839  coffee\n",
       "2196  117  32  34    26.272418  52.127394  6.758793  127.175293  coffee\n",
       "2197  104  18  30    23.603016  60.396475  6.779833  140.937041  coffee"
      ],
      "text/html": [
       "<div>\n",
       "<style scoped>\n",
       "    .dataframe tbody tr th:only-of-type {\n",
       "        vertical-align: middle;\n",
       "    }\n",
       "\n",
       "    .dataframe tbody tr th {\n",
       "        vertical-align: top;\n",
       "    }\n",
       "\n",
       "    .dataframe thead th {\n",
       "        text-align: right;\n",
       "    }\n",
       "</style>\n",
       "<table border=\"1\" class=\"dataframe\">\n",
       "  <thead>\n",
       "    <tr style=\"text-align: right;\">\n",
       "      <th></th>\n",
       "      <th>N</th>\n",
       "      <th>P</th>\n",
       "      <th>K</th>\n",
       "      <th>temperature</th>\n",
       "      <th>humidity</th>\n",
       "      <th>ph</th>\n",
       "      <th>rainfall</th>\n",
       "      <th>Crop</th>\n",
       "    </tr>\n",
       "  </thead>\n",
       "  <tbody>\n",
       "    <tr>\n",
       "      <th>2193</th>\n",
       "      <td>107</td>\n",
       "      <td>34</td>\n",
       "      <td>32</td>\n",
       "      <td>26.774637</td>\n",
       "      <td>66.413269</td>\n",
       "      <td>6.780064</td>\n",
       "      <td>177.774507</td>\n",
       "      <td>coffee</td>\n",
       "    </tr>\n",
       "    <tr>\n",
       "      <th>2194</th>\n",
       "      <td>99</td>\n",
       "      <td>15</td>\n",
       "      <td>27</td>\n",
       "      <td>27.417112</td>\n",
       "      <td>56.636362</td>\n",
       "      <td>6.086922</td>\n",
       "      <td>127.924610</td>\n",
       "      <td>coffee</td>\n",
       "    </tr>\n",
       "    <tr>\n",
       "      <th>2195</th>\n",
       "      <td>118</td>\n",
       "      <td>33</td>\n",
       "      <td>30</td>\n",
       "      <td>24.131797</td>\n",
       "      <td>67.225123</td>\n",
       "      <td>6.362608</td>\n",
       "      <td>173.322839</td>\n",
       "      <td>coffee</td>\n",
       "    </tr>\n",
       "    <tr>\n",
       "      <th>2196</th>\n",
       "      <td>117</td>\n",
       "      <td>32</td>\n",
       "      <td>34</td>\n",
       "      <td>26.272418</td>\n",
       "      <td>52.127394</td>\n",
       "      <td>6.758793</td>\n",
       "      <td>127.175293</td>\n",
       "      <td>coffee</td>\n",
       "    </tr>\n",
       "    <tr>\n",
       "      <th>2197</th>\n",
       "      <td>104</td>\n",
       "      <td>18</td>\n",
       "      <td>30</td>\n",
       "      <td>23.603016</td>\n",
       "      <td>60.396475</td>\n",
       "      <td>6.779833</td>\n",
       "      <td>140.937041</td>\n",
       "      <td>coffee</td>\n",
       "    </tr>\n",
       "  </tbody>\n",
       "</table>\n",
       "</div>"
      ]
     },
     "metadata": {},
     "execution_count": 8
    }
   ],
   "metadata": {}
  },
  {
   "cell_type": "code",
   "execution_count": 9,
   "source": [
    "# for null values\r\n",
    "df.isnull().sum()"
   ],
   "outputs": [
    {
     "output_type": "execute_result",
     "data": {
      "text/plain": [
       "N              0\n",
       "P              0\n",
       "K              0\n",
       "temperature    0\n",
       "humidity       0\n",
       "ph             0\n",
       "rainfall       0\n",
       "Crop           0\n",
       "dtype: int64"
      ]
     },
     "metadata": {},
     "execution_count": 9
    }
   ],
   "metadata": {}
  },
  {
   "cell_type": "code",
   "execution_count": 10,
   "source": [
    "df_numeric = df.select_dtypes(include=[np.number])\r\n",
    "numeric_cols = df_numeric.columns.values\r\n",
    "print(numeric_cols)"
   ],
   "outputs": [
    {
     "output_type": "stream",
     "name": "stdout",
     "text": [
      "['N' 'P' 'K' 'temperature' 'humidity' 'ph' 'rainfall']\n"
     ]
    }
   ],
   "metadata": {}
  },
  {
   "cell_type": "code",
   "execution_count": 11,
   "source": [
    "df_non_numeric = df.select_dtypes(exclude=[np.number])\r\n",
    "non_numeric_cols = df_non_numeric.columns.values\r\n",
    "print(non_numeric_cols)"
   ],
   "outputs": [
    {
     "output_type": "stream",
     "name": "stdout",
     "text": [
      "['Crop']\n"
     ]
    }
   ],
   "metadata": {}
  },
  {
   "cell_type": "code",
   "execution_count": 12,
   "source": [
    "#corelation\r\n",
    "plt.figure(figsize = (13,11))\r\n",
    "sns.heatmap(df.corr(), center = 0, annot = True)\r\n",
    "plt.show()"
   ],
   "outputs": [
    {
     "output_type": "display_data",
     "data": {
      "text/plain": [
       "<Figure size 936x792 with 2 Axes>"
      ],
      "image/png": "[encoded data removed]"
     },
     "metadata": {
      "needs_background": "light"
     }
    }
   ],
   "metadata": {}
  },
  {
   "cell_type": "code",
   "execution_count": 13,
   "source": [
    "all_columns = df.columns[:-1]\r\n",
    "\r\n",
    "plt.figure(figsize=(15,13))\r\n",
    "i = 1\r\n",
    "for column in all_columns[:-1]:\r\n",
    "    plt.subplot(3,3,i)\r\n",
    "    sns.histplot(df[column])\r\n",
    "    i+=1\r\n",
    "plt.show()\r\n",
    "\r\n",
    "#sns.histplot(df[all_columns[-1]])\r\n",
    "#plt.show()"
   ],
   "outputs": [
    {
     "output_type": "display_data",
     "data": {
      "text/plain": [
       "<Figure size 1080x936 with 6 Axes>"
      ],
      "image/png": "[encoded data removed]"
     },
     "metadata": {
      "needs_background": "light"
     }
    }
   ],
   "metadata": {}
  },
  {
   "cell_type": "code",
   "execution_count": 14,
   "source": [
    "#Pandas df.loc attribute access a group of rows and columns by label(s) or a boolean array in the given DataFrame.\r\n",
    "df.loc[(df['ph'] < 3.0), 'Soil_Nature'] = 'Ultra acidic'\r\n",
    "df.loc[(df['ph'] >= 3.5) & (df['ph'] <= 4.4), 'Soil_Nature'] = 'Extremely acidic'  \r\n",
    "df.loc[(df['ph'] >= 4.5) & (df['ph'] <= 5.0), 'Soil_Nature'] = 'Very strongly acidic' \r\n",
    "df.loc[(df['ph'] >= 5.1) & (df['ph'] <= 5.5), 'Soil_Nature'] = 'Strongly acidic'    \r\n",
    "df.loc[(df['ph'] >= 5.6) & (df['ph'] <= 6.0), 'Soil_Nature'] = 'Moderately acidic'  \r\n",
    "df.loc[(df['ph'] >= 6.1) & (df['ph'] <= 6.5), 'Soil_Nature'] = 'Slightly acidic'  \r\n",
    "df.loc[(df['ph'] >= 6.6) & (df['ph'] <= 7.3), 'Soil_Nature'] = 'Neutral' \r\n",
    "df.loc[(df['ph'] >= 7.4) & (df['ph'] <= 7.8), 'Soil_Nature'] = 'Slightly alkaline'  \r\n",
    "df.loc[(df['ph'] >= 7.9) & (df['ph'] <= 8.4), 'Soil_Nature'] = 'Moderately alkaline'\r\n",
    "df.loc[(df['ph'] >= 8.5) & (df['ph'] <= 9.0), 'Soil_Nature'] = 'Strongly alkaline'  \r\n",
    "df.loc[(df['ph'] > 9.0), 'Soil_Nature']  = 'Very strongly alkaline'"
   ],
   "outputs": [],
   "metadata": {}
  },
  {
   "cell_type": "code",
   "execution_count": 15,
   "source": [
    "print (df)"
   ],
   "outputs": [
    {
     "output_type": "stream",
     "name": "stdout",
     "text": [
      "        N   P   K  temperature   humidity        ph    rainfall    Crop  \\\n",
      "0      90  42  43    20.879744  82.002744  6.502985  202.935536    rice   \n",
      "1      85  58  41    21.770462  80.319644  7.038096  226.655537    rice   \n",
      "2      60  55  44    23.004459  82.320763  7.840207  263.964248    rice   \n",
      "3      74  35  40    26.491096  80.158363  6.980401  242.864034    rice   \n",
      "4      78  42  42    20.130175  81.604873  7.628473  262.717340    rice   \n",
      "...   ...  ..  ..          ...        ...       ...         ...     ...   \n",
      "2193  107  34  32    26.774637  66.413269  6.780064  177.774507  coffee   \n",
      "2194   99  15  27    27.417112  56.636362  6.086922  127.924610  coffee   \n",
      "2195  118  33  30    24.131797  67.225123  6.362608  173.322839  coffee   \n",
      "2196  117  32  34    26.272418  52.127394  6.758793  127.175293  coffee   \n",
      "2197  104  18  30    23.603016  60.396475  6.779833  140.937041  coffee   \n",
      "\n",
      "            Soil_Nature  \n",
      "0                   NaN  \n",
      "1               Neutral  \n",
      "2                   NaN  \n",
      "3               Neutral  \n",
      "4     Slightly alkaline  \n",
      "...                 ...  \n",
      "2193            Neutral  \n",
      "2194                NaN  \n",
      "2195    Slightly acidic  \n",
      "2196            Neutral  \n",
      "2197            Neutral  \n",
      "\n",
      "[2198 rows x 9 columns]\n"
     ]
    }
   ],
   "metadata": {}
  },
  {
   "cell_type": "code",
   "execution_count": 16,
   "source": [
    "# for null values.\r\n",
    "df.isnull().sum()"
   ],
   "outputs": [
    {
     "output_type": "execute_result",
     "data": {
      "text/plain": [
       "N                0\n",
       "P                0\n",
       "K                0\n",
       "temperature      0\n",
       "humidity         0\n",
       "ph               0\n",
       "rainfall         0\n",
       "Crop             0\n",
       "Soil_Nature    394\n",
       "dtype: int64"
      ]
     },
     "metadata": {},
     "execution_count": 16
    }
   ],
   "metadata": {}
  },
  {
   "cell_type": "code",
   "execution_count": 17,
   "source": [
    "df.dropna(subset = [\"Soil_Nature\"], inplace=True)"
   ],
   "outputs": [],
   "metadata": {}
  },
  {
   "cell_type": "code",
   "execution_count": 18,
   "source": [
    "# for null values.\r\n",
    "df.isnull().sum()"
   ],
   "outputs": [
    {
     "output_type": "execute_result",
     "data": {
      "text/plain": [
       "N              0\n",
       "P              0\n",
       "K              0\n",
       "temperature    0\n",
       "humidity       0\n",
       "ph             0\n",
       "rainfall       0\n",
       "Crop           0\n",
       "Soil_Nature    0\n",
       "dtype: int64"
      ]
     },
     "metadata": {},
     "execution_count": 18
    }
   ],
   "metadata": {}
  },
  {
   "cell_type": "code",
   "execution_count": 19,
   "source": [
    "#Seperating features and target label\r\n",
    "features = df[[ 'N', 'P','K','ph']]\r\n",
    "target = df['Soil_Nature']"
   ],
   "outputs": [],
   "metadata": {}
  },
  {
   "cell_type": "code",
   "execution_count": 20,
   "source": [
    "# Initializing empty lists to append all model's name and corresponding name\r\n",
    "acc = []\r\n",
    "model = []"
   ],
   "outputs": [],
   "metadata": {}
  },
  {
   "cell_type": "code",
   "execution_count": 21,
   "source": [
    "# Splitting into train and test data\r\n",
    "from sklearn.model_selection import train_test_split\r\n",
    "Xtrain, Xtest, Ytrain, Ytest = train_test_split(features,target,test_size = 0.4,random_state =2)"
   ],
   "outputs": [],
   "metadata": {}
  },
  {
   "cell_type": "code",
   "execution_count": 22,
   "source": [
    "from sklearn.naive_bayes import GaussianNB\r\n",
    "NaiveBayes = GaussianNB()\r\n",
    "NaiveBayes.fit(Xtrain,Ytrain)\r\n",
    "predicted_values = NaiveBayes.predict(Xtest)\r\n",
    "x = metrics.accuracy_score(Ytest, predicted_values)\r\n",
    "acc.append(x)\r\n",
    "model.append('Naive Bayes')\r\n",
    "print(\"Naive Bayes's Accuracy is: \", x*100)\r\n",
    "print(classification_report(Ytest,predicted_values))"
   ],
   "outputs": [
    {
     "output_type": "stream",
     "name": "stdout",
     "text": [
      "Naive Bayes's Accuracy is:  97.36842105263158\n",
      "                        precision    recall  f1-score   support\n",
      "\n",
      "      Extremely acidic       1.00      1.00      1.00         4\n",
      "     Moderately acidic       1.00      1.00      1.00       145\n",
      "   Moderately alkaline       1.00      1.00      1.00        16\n",
      "               Neutral       0.96      0.99      0.98       247\n",
      "       Slightly acidic       0.99      0.95      0.97       204\n",
      "     Slightly alkaline       1.00      1.00      1.00        51\n",
      "       Strongly acidic       1.00      1.00      1.00        21\n",
      "     Strongly alkaline       0.50      1.00      0.67         7\n",
      "  Very strongly acidic       1.00      1.00      1.00        20\n",
      "Very strongly alkaline       0.00      0.00      0.00         7\n",
      "\n",
      "              accuracy                           0.97       722\n",
      "             macro avg       0.85      0.89      0.86       722\n",
      "          weighted avg       0.97      0.97      0.97       722\n",
      "\n"
     ]
    }
   ],
   "metadata": {}
  },
  {
   "cell_type": "code",
   "execution_count": 23,
   "source": [
    "# Create Base Learners\r\n",
    "from sklearn.ensemble import StackingClassifier\r\n",
    "estimators = [\r\n",
    "     ('NaiveBayes', NaiveBayes)\r\n",
    "]"
   ],
   "outputs": [],
   "metadata": {}
  },
  {
   "cell_type": "code",
   "execution_count": 24,
   "source": [
    "# Initialize Stacking Classifier with the Meta Learner\r\n",
    "from sklearn.metrics import accuracy_score\r\n",
    "from sklearn.svm import SVC\r\n",
    "clf = StackingClassifier(\r\n",
    "     estimators=estimators, final_estimator=SVC()\r\n",
    ")"
   ],
   "outputs": [],
   "metadata": {}
  },
  {
   "cell_type": "code",
   "execution_count": 25,
   "source": [
    "clf.fit(Xtrain, Ytrain).score(Xtest, Ytest)\r\n",
    "predicted_values = clf.predict(Xtest)\r\n",
    "x = metrics.accuracy_score(Ytest, predicted_values)\r\n",
    "acc.append(x)\r\n",
    "model.append('Ensemble')\r\n",
    "print(\"Enssemble model Accuracy is: \", x*100)\r\n",
    "print(precision_score(Ytest, predicted_values, average='weighted'))"
   ],
   "outputs": [
    {
     "output_type": "stream",
     "name": "stdout",
     "text": [
      "Enssemble model Accuracy is:  98.75346260387812\n",
      "0.982713874620122\n"
     ]
    }
   ],
   "metadata": {}
  },
  {
   "cell_type": "code",
   "execution_count": 26,
   "source": [
    "plt.figure(figsize=[10,5],dpi = 100)\r\n",
    "plt.title('Accuracy Comparison')\r\n",
    "plt.xlabel('Accuracy')\r\n",
    "plt.ylabel('Algorithm')\r\n",
    "#sns.barplot(x = acc,y = model,palette='dark')\r\n",
    "sns.boxplot(x = acc,y = model,palette='dark')"
   ],
   "outputs": [
    {
     "output_type": "execute_result",
     "data": {
      "text/plain": [
       "<AxesSubplot:title={'center':'Accuracy Comparison'}, xlabel='Accuracy', ylabel='Algorithm'>"
      ]
     },
     "metadata": {},
     "execution_count": 26
    },
    {
     "output_type": "display_data",
     "data": {
      "text/plain": [
       "<Figure size 1000x500 with 1 Axes>"
      ],
      "image/png": "[encoded data removed]"
     },
     "metadata": {
      "needs_background": "light"
     }
    }
   ],
   "metadata": {}
  },
  {
   "cell_type": "code",
   "execution_count": 27,
   "source": [
    "print(classification_report(Ytest,predicted_values))"
   ],
   "outputs": [
    {
     "output_type": "stream",
     "name": "stdout",
     "text": [
      "                        precision    recall  f1-score   support\n",
      "\n",
      "      Extremely acidic       1.00      1.00      1.00         4\n",
      "     Moderately acidic       1.00      1.00      1.00       145\n",
      "   Moderately alkaline       1.00      1.00      1.00        16\n",
      "               Neutral       1.00      0.99      1.00       247\n",
      "       Slightly acidic       0.99      1.00      1.00       204\n",
      "     Slightly alkaline       1.00      1.00      1.00        51\n",
      "       Strongly acidic       1.00      1.00      1.00        21\n",
      "     Strongly alkaline       0.50      1.00      0.67         7\n",
      "  Very strongly acidic       1.00      1.00      1.00        20\n",
      "Very strongly alkaline       0.00      0.00      0.00         7\n",
      "\n",
      "              accuracy                           0.99       722\n",
      "             macro avg       0.85      0.90      0.87       722\n",
      "          weighted avg       0.98      0.99      0.98       722\n",
      "\n"
     ]
    }
   ],
   "metadata": {}
  },
  {
   "cell_type": "code",
   "execution_count": 28,
   "source": [
    "data = np.array([[6, 5, 14, 6]])\r\n",
    "prediction = clf.predict(data)\r\n",
    "print(\"Soil nature for given soil nutrients is:\",prediction)"
   ],
   "outputs": [
    {
     "output_type": "stream",
     "name": "stdout",
     "text": [
      "Soil nature for given soil nutrients is: ['Moderately acidic']\n"
     ]
    }
   ],
   "metadata": {}
  },
  {
   "cell_type": "code",
   "execution_count": 29,
   "source": [
    "cleanup_nums = {'Soil_Nature':     {'Ultra acidic': 1, 'Extremely acidic': 2,'Very strongly acidic': 3,'Strongly acidic': 4 ,'Moderately acidic': 5,'Slightly acidic': 6, 'Neutral': 7,'Slightly alkaline': 8,'Moderately alkaline': 9, 'Strongly alkaline': 10  ,'Very strongly alkaline': 11}}\r\n",
    "df = df.replace(cleanup_nums)\r\n",
    "df.head()"
   ],
   "outputs": [
    {
     "output_type": "execute_result",
     "data": {
      "text/plain": [
       "    N   P   K  temperature   humidity        ph    rainfall  Crop  Soil_Nature\n",
       "1  85  58  41    21.770462  80.319644  7.038096  226.655537  rice            7\n",
       "3  74  35  40    26.491096  80.158363  6.980401  242.864034  rice            7\n",
       "4  78  42  42    20.130175  81.604873  7.628473  262.717340  rice            8\n",
       "5  69  37  42    23.058049  83.370118  7.073454  251.055000  rice            7\n",
       "6  69  55  38    22.708838  82.639414  5.700806  271.324860  rice            5"
      ],
      "text/html": [
       "<div>\n",
       "<style scoped>\n",
       "    .dataframe tbody tr th:only-of-type {\n",
       "        vertical-align: middle;\n",
       "    }\n",
       "\n",
       "    .dataframe tbody tr th {\n",
       "        vertical-align: top;\n",
       "    }\n",
       "\n",
       "    .dataframe thead th {\n",
       "        text-align: right;\n",
       "    }\n",
       "</style>\n",
       "<table border=\"1\" class=\"dataframe\">\n",
       "  <thead>\n",
       "    <tr style=\"text-align: right;\">\n",
       "      <th></th>\n",
       "      <th>N</th>\n",
       "      <th>P</th>\n",
       "      <th>K</th>\n",
       "      <th>temperature</th>\n",
       "      <th>humidity</th>\n",
       "      <th>ph</th>\n",
       "      <th>rainfall</th>\n",
       "      <th>Crop</th>\n",
       "      <th>Soil_Nature</th>\n",
       "    </tr>\n",
       "  </thead>\n",
       "  <tbody>\n",
       "    <tr>\n",
       "      <th>1</th>\n",
       "      <td>85</td>\n",
       "      <td>58</td>\n",
       "      <td>41</td>\n",
       "      <td>21.770462</td>\n",
       "      <td>80.319644</td>\n",
       "      <td>7.038096</td>\n",
       "      <td>226.655537</td>\n",
       "      <td>rice</td>\n",
       "      <td>7</td>\n",
       "    </tr>\n",
       "    <tr>\n",
       "      <th>3</th>\n",
       "      <td>74</td>\n",
       "      <td>35</td>\n",
       "      <td>40</td>\n",
       "      <td>26.491096</td>\n",
       "      <td>80.158363</td>\n",
       "      <td>6.980401</td>\n",
       "      <td>242.864034</td>\n",
       "      <td>rice</td>\n",
       "      <td>7</td>\n",
       "    </tr>\n",
       "    <tr>\n",
       "      <th>4</th>\n",
       "      <td>78</td>\n",
       "      <td>42</td>\n",
       "      <td>42</td>\n",
       "      <td>20.130175</td>\n",
       "      <td>81.604873</td>\n",
       "      <td>7.628473</td>\n",
       "      <td>262.717340</td>\n",
       "      <td>rice</td>\n",
       "      <td>8</td>\n",
       "    </tr>\n",
       "    <tr>\n",
       "      <th>5</th>\n",
       "      <td>69</td>\n",
       "      <td>37</td>\n",
       "      <td>42</td>\n",
       "      <td>23.058049</td>\n",
       "      <td>83.370118</td>\n",
       "      <td>7.073454</td>\n",
       "      <td>251.055000</td>\n",
       "      <td>rice</td>\n",
       "      <td>7</td>\n",
       "    </tr>\n",
       "    <tr>\n",
       "      <th>6</th>\n",
       "      <td>69</td>\n",
       "      <td>55</td>\n",
       "      <td>38</td>\n",
       "      <td>22.708838</td>\n",
       "      <td>82.639414</td>\n",
       "      <td>5.700806</td>\n",
       "      <td>271.324860</td>\n",
       "      <td>rice</td>\n",
       "      <td>5</td>\n",
       "    </tr>\n",
       "  </tbody>\n",
       "</table>\n",
       "</div>"
      ]
     },
     "metadata": {},
     "execution_count": 29
    }
   ],
   "metadata": {}
  },
  {
   "cell_type": "code",
   "execution_count": 30,
   "source": [
    "#Seperating features and target label\r\n",
    "feature = df[['temperature', 'humidity', 'rainfall','Soil_Nature']]\r\n",
    "feature_list = list(feature)\r\n",
    "t = df['Crop']"
   ],
   "outputs": [],
   "metadata": {}
  },
  {
   "cell_type": "code",
   "execution_count": 31,
   "source": [
    "# Splitting into train and test data\r\n",
    "from sklearn.model_selection import train_test_split\r\n",
    "Xtrain, Xtest, ytrain, ytest = train_test_split(feature,t, test_size = 0.2, random_state =None)"
   ],
   "outputs": [],
   "metadata": {}
  },
  {
   "cell_type": "code",
   "execution_count": 32,
   "source": [
    "from sklearn.ensemble import RandomForestClassifier\r\n",
    "\r\n",
    "RF = RandomForestClassifier(n_estimators=100, random_state=0)\r\n",
    "RF.fit(Xtrain,ytrain)\r\n",
    "predicted_values = RF.predict(Xtest)\r\n",
    "\r\n",
    "x = metrics.accuracy_score(ytest, predicted_values)\r\n",
    "print(\"RF's Accuracy is: \", x*100)\r\n",
    "print(precision_score(ytest, predicted_values, average=None))\r\n",
    "print(classification_report(ytest,predicted_values))"
   ],
   "outputs": [
    {
     "output_type": "stream",
     "name": "stdout",
     "text": [
      "RF's Accuracy is:  96.67590027700831\n",
      "[0.9        1.         0.95833333 1.         1.         1.\n",
      " 0.92307692 1.         1.         1.         0.91304348 0.94444444\n",
      " 0.95238095 1.         1.         1.         0.86666667 1.\n",
      " 1.         0.90909091 0.92857143 1.        ]\n",
      "              precision    recall  f1-score   support\n",
      "\n",
      "       apple       0.90      1.00      0.95        18\n",
      "      banana       1.00      1.00      1.00        18\n",
      "   blackgram       0.96      1.00      0.98        23\n",
      "    chickpea       1.00      1.00      1.00        14\n",
      "     coconut       1.00      1.00      1.00        16\n",
      "      coffee       1.00      1.00      1.00        14\n",
      "      cotton       0.92      1.00      0.96        12\n",
      "      grapes       1.00      0.95      0.97        19\n",
      "        jute       1.00      0.95      0.97        19\n",
      " kidneybeans       1.00      1.00      1.00        20\n",
      "      lentil       0.91      1.00      0.95        21\n",
      "       maize       0.94      1.00      0.97        17\n",
      "       mango       0.95      1.00      0.98        20\n",
      "   mothbeans       1.00      0.77      0.87        13\n",
      "    mungbean       1.00      1.00      1.00        15\n",
      "   muskmelon       1.00      1.00      1.00        14\n",
      "      orange       0.87      1.00      0.93        13\n",
      "      papaya       1.00      0.86      0.92        14\n",
      "  pigeonpeas       1.00      0.85      0.92        13\n",
      " pomegranate       0.91      0.77      0.83        13\n",
      "        rice       0.93      1.00      0.96        13\n",
      "  watermelon       1.00      1.00      1.00        22\n",
      "\n",
      "    accuracy                           0.97       361\n",
      "   macro avg       0.97      0.96      0.96       361\n",
      "weighted avg       0.97      0.97      0.97       361\n",
      "\n"
     ]
    }
   ],
   "metadata": {}
  },
  {
   "cell_type": "code",
   "execution_count": 33,
   "source": [
    "# Making the Confusion Matrix\r\n",
    "print(pd.crosstab(ytest, predicted_values, rownames=['Actual Crop'], colnames=['Predicted Crop']))"
   ],
   "outputs": [
    {
     "output_type": "stream",
     "name": "stdout",
     "text": [
      "Predicted Crop  apple  banana  blackgram  chickpea  coconut  coffee  cotton  \\\n",
      "Actual Crop                                                                   \n",
      "apple              18       0          0         0        0       0       0   \n",
      "banana              0      18          0         0        0       0       0   \n",
      "blackgram           0       0         23         0        0       0       0   \n",
      "chickpea            0       0          0        14        0       0       0   \n",
      "coconut             0       0          0         0       16       0       0   \n",
      "coffee              0       0          0         0        0      14       0   \n",
      "cotton              0       0          0         0        0       0      12   \n",
      "grapes              0       0          0         0        0       0       1   \n",
      "jute                0       0          0         0        0       0       0   \n",
      "kidneybeans         0       0          0         0        0       0       0   \n",
      "lentil              0       0          0         0        0       0       0   \n",
      "maize               0       0          0         0        0       0       0   \n",
      "mango               0       0          0         0        0       0       0   \n",
      "mothbeans           0       0          1         0        0       0       0   \n",
      "mungbean            0       0          0         0        0       0       0   \n",
      "muskmelon           0       0          0         0        0       0       0   \n",
      "orange              0       0          0         0        0       0       0   \n",
      "papaya              0       0          0         0        0       0       0   \n",
      "pigeonpeas          0       0          0         0        0       0       0   \n",
      "pomegranate         2       0          0         0        0       0       0   \n",
      "rice                0       0          0         0        0       0       0   \n",
      "watermelon          0       0          0         0        0       0       0   \n",
      "\n",
      "Predicted Crop  grapes  jute  kidneybeans  ...  mango  mothbeans  mungbean  \\\n",
      "Actual Crop                                ...                               \n",
      "apple                0     0            0  ...      0          0         0   \n",
      "banana               0     0            0  ...      0          0         0   \n",
      "blackgram            0     0            0  ...      0          0         0   \n",
      "chickpea             0     0            0  ...      0          0         0   \n",
      "coconut              0     0            0  ...      0          0         0   \n",
      "coffee               0     0            0  ...      0          0         0   \n",
      "cotton               0     0            0  ...      0          0         0   \n",
      "grapes              18     0            0  ...      0          0         0   \n",
      "jute                 0    18            0  ...      0          0         0   \n",
      "kidneybeans          0     0           20  ...      0          0         0   \n",
      "lentil               0     0            0  ...      0          0         0   \n",
      "maize                0     0            0  ...      0          0         0   \n",
      "mango                0     0            0  ...     20          0         0   \n",
      "mothbeans            0     0            0  ...      0         10         0   \n",
      "mungbean             0     0            0  ...      0          0        15   \n",
      "muskmelon            0     0            0  ...      0          0         0   \n",
      "orange               0     0            0  ...      0          0         0   \n",
      "papaya               0     0            0  ...      0          0         0   \n",
      "pigeonpeas           0     0            0  ...      1          0         0   \n",
      "pomegranate          0     0            0  ...      0          0         0   \n",
      "rice                 0     0            0  ...      0          0         0   \n",
      "watermelon           0     0            0  ...      0          0         0   \n",
      "\n",
      "Predicted Crop  muskmelon  orange  papaya  pigeonpeas  pomegranate  rice  \\\n",
      "Actual Crop                                                                \n",
      "apple                   0       0       0           0            0     0   \n",
      "banana                  0       0       0           0            0     0   \n",
      "blackgram               0       0       0           0            0     0   \n",
      "chickpea                0       0       0           0            0     0   \n",
      "coconut                 0       0       0           0            0     0   \n",
      "coffee                  0       0       0           0            0     0   \n",
      "cotton                  0       0       0           0            0     0   \n",
      "grapes                  0       0       0           0            0     0   \n",
      "jute                    0       0       0           0            0     1   \n",
      "kidneybeans             0       0       0           0            0     0   \n",
      "lentil                  0       0       0           0            0     0   \n",
      "maize                   0       0       0           0            0     0   \n",
      "mango                   0       0       0           0            0     0   \n",
      "mothbeans               0       0       0           0            0     0   \n",
      "mungbean                0       0       0           0            0     0   \n",
      "muskmelon              14       0       0           0            0     0   \n",
      "orange                  0      13       0           0            0     0   \n",
      "papaya                  0       1      12           0            1     0   \n",
      "pigeonpeas              0       0       0          11            0     0   \n",
      "pomegranate             0       1       0           0           10     0   \n",
      "rice                    0       0       0           0            0    13   \n",
      "watermelon              0       0       0           0            0     0   \n",
      "\n",
      "Predicted Crop  watermelon  \n",
      "Actual Crop                 \n",
      "apple                    0  \n",
      "banana                   0  \n",
      "blackgram                0  \n",
      "chickpea                 0  \n",
      "coconut                  0  \n",
      "coffee                   0  \n",
      "cotton                   0  \n",
      "grapes                   0  \n",
      "jute                     0  \n",
      "kidneybeans              0  \n",
      "lentil                   0  \n",
      "maize                    0  \n",
      "mango                    0  \n",
      "mothbeans                0  \n",
      "mungbean                 0  \n",
      "muskmelon                0  \n",
      "orange                   0  \n",
      "papaya                   0  \n",
      "pigeonpeas               0  \n",
      "pomegranate              0  \n",
      "rice                     0  \n",
      "watermelon              22  \n",
      "\n",
      "[22 rows x 22 columns]\n"
     ]
    }
   ],
   "metadata": {}
  },
  {
   "cell_type": "code",
   "execution_count": 34,
   "source": [
    "fert=pd.read_csv(r'Fertilizer Prediction.csv')"
   ],
   "outputs": [],
   "metadata": {}
  },
  {
   "cell_type": "code",
   "execution_count": 35,
   "source": [
    "fert.shape"
   ],
   "outputs": [
    {
     "output_type": "execute_result",
     "data": {
      "text/plain": [
       "(102, 8)"
      ]
     },
     "metadata": {},
     "execution_count": 35
    }
   ],
   "metadata": {}
  },
  {
   "cell_type": "code",
   "execution_count": 36,
   "source": [
    "fert.info()"
   ],
   "outputs": [
    {
     "output_type": "stream",
     "name": "stdout",
     "text": [
      "<class 'pandas.core.frame.DataFrame'>\n",
      "RangeIndex: 102 entries, 0 to 101\n",
      "Data columns (total 8 columns):\n",
      " #   Column       Non-Null Count  Dtype \n",
      "---  ------       --------------  ----- \n",
      " 0   N            102 non-null    int64 \n",
      " 1   K            102 non-null    int64 \n",
      " 2   P            102 non-null    int64 \n",
      " 3   temparature  102 non-null    int64 \n",
      " 4   moisture     102 non-null    int64 \n",
      " 5   humidity     102 non-null    int64 \n",
      " 6   Crop         102 non-null    object\n",
      " 7   Fertilizer   102 non-null    object\n",
      "dtypes: int64(6), object(2)\n",
      "memory usage: 6.5+ KB\n"
     ]
    }
   ],
   "metadata": {}
  },
  {
   "cell_type": "code",
   "execution_count": 37,
   "source": [
    "fert"
   ],
   "outputs": [
    {
     "output_type": "execute_result",
     "data": {
      "text/plain": [
       "      N   K   P  temparature  moisture  humidity          Crop   Fertilizer\n",
       "0    37   0   0           26        38         52        maize         Urea\n",
       "1    12   0  36           29        45         52       coffee          FYM\n",
       "2     7   9  30           34        62         65       cotton     14-35-14\n",
       "3    22   0  20           32        34         62         jute        28-28\n",
       "4    35   0   0           28        46         54         rice         Urea\n",
       "..   ..  ..  ..          ...       ...        ...          ...          ...\n",
       "97   15   0  41           36        43         60        mango     6N-6P-6K\n",
       "98   12   0  10           29        57         58       coffee        20-20\n",
       "99    8  58  17           28        26         63       lentil      32-30-9\n",
       "100  37  18  39           24        30         94  pomegranate  10N-10P-10K\n",
       "101  95  74  50           25        28         80       banana    8N-10P-8K\n",
       "\n",
       "[102 rows x 8 columns]"
      ],
      "text/html": [
       "<div>\n",
       "<style scoped>\n",
       "    .dataframe tbody tr th:only-of-type {\n",
       "        vertical-align: middle;\n",
       "    }\n",
       "\n",
       "    .dataframe tbody tr th {\n",
       "        vertical-align: top;\n",
       "    }\n",
       "\n",
       "    .dataframe thead th {\n",
       "        text-align: right;\n",
       "    }\n",
       "</style>\n",
       "<table border=\"1\" class=\"dataframe\">\n",
       "  <thead>\n",
       "    <tr style=\"text-align: right;\">\n",
       "      <th></th>\n",
       "      <th>N</th>\n",
       "      <th>K</th>\n",
       "      <th>P</th>\n",
       "      <th>temparature</th>\n",
       "      <th>moisture</th>\n",
       "      <th>humidity</th>\n",
       "      <th>Crop</th>\n",
       "      <th>Fertilizer</th>\n",
       "    </tr>\n",
       "  </thead>\n",
       "  <tbody>\n",
       "    <tr>\n",
       "      <th>0</th>\n",
       "      <td>37</td>\n",
       "      <td>0</td>\n",
       "      <td>0</td>\n",
       "      <td>26</td>\n",
       "      <td>38</td>\n",
       "      <td>52</td>\n",
       "      <td>maize</td>\n",
       "      <td>Urea</td>\n",
       "    </tr>\n",
       "    <tr>\n",
       "      <th>1</th>\n",
       "      <td>12</td>\n",
       "      <td>0</td>\n",
       "      <td>36</td>\n",
       "      <td>29</td>\n",
       "      <td>45</td>\n",
       "      <td>52</td>\n",
       "      <td>coffee</td>\n",
       "      <td>FYM</td>\n",
       "    </tr>\n",
       "    <tr>\n",
       "      <th>2</th>\n",
       "      <td>7</td>\n",
       "      <td>9</td>\n",
       "      <td>30</td>\n",
       "      <td>34</td>\n",
       "      <td>62</td>\n",
       "      <td>65</td>\n",
       "      <td>cotton</td>\n",
       "      <td>14-35-14</td>\n",
       "    </tr>\n",
       "    <tr>\n",
       "      <th>3</th>\n",
       "      <td>22</td>\n",
       "      <td>0</td>\n",
       "      <td>20</td>\n",
       "      <td>32</td>\n",
       "      <td>34</td>\n",
       "      <td>62</td>\n",
       "      <td>jute</td>\n",
       "      <td>28-28</td>\n",
       "    </tr>\n",
       "    <tr>\n",
       "      <th>4</th>\n",
       "      <td>35</td>\n",
       "      <td>0</td>\n",
       "      <td>0</td>\n",
       "      <td>28</td>\n",
       "      <td>46</td>\n",
       "      <td>54</td>\n",
       "      <td>rice</td>\n",
       "      <td>Urea</td>\n",
       "    </tr>\n",
       "    <tr>\n",
       "      <th>...</th>\n",
       "      <td>...</td>\n",
       "      <td>...</td>\n",
       "      <td>...</td>\n",
       "      <td>...</td>\n",
       "      <td>...</td>\n",
       "      <td>...</td>\n",
       "      <td>...</td>\n",
       "      <td>...</td>\n",
       "    </tr>\n",
       "    <tr>\n",
       "      <th>97</th>\n",
       "      <td>15</td>\n",
       "      <td>0</td>\n",
       "      <td>41</td>\n",
       "      <td>36</td>\n",
       "      <td>43</td>\n",
       "      <td>60</td>\n",
       "      <td>mango</td>\n",
       "      <td>6N-6P-6K</td>\n",
       "    </tr>\n",
       "    <tr>\n",
       "      <th>98</th>\n",
       "      <td>12</td>\n",
       "      <td>0</td>\n",
       "      <td>10</td>\n",
       "      <td>29</td>\n",
       "      <td>57</td>\n",
       "      <td>58</td>\n",
       "      <td>coffee</td>\n",
       "      <td>20-20</td>\n",
       "    </tr>\n",
       "    <tr>\n",
       "      <th>99</th>\n",
       "      <td>8</td>\n",
       "      <td>58</td>\n",
       "      <td>17</td>\n",
       "      <td>28</td>\n",
       "      <td>26</td>\n",
       "      <td>63</td>\n",
       "      <td>lentil</td>\n",
       "      <td>32-30-9</td>\n",
       "    </tr>\n",
       "    <tr>\n",
       "      <th>100</th>\n",
       "      <td>37</td>\n",
       "      <td>18</td>\n",
       "      <td>39</td>\n",
       "      <td>24</td>\n",
       "      <td>30</td>\n",
       "      <td>94</td>\n",
       "      <td>pomegranate</td>\n",
       "      <td>10N-10P-10K</td>\n",
       "    </tr>\n",
       "    <tr>\n",
       "      <th>101</th>\n",
       "      <td>95</td>\n",
       "      <td>74</td>\n",
       "      <td>50</td>\n",
       "      <td>25</td>\n",
       "      <td>28</td>\n",
       "      <td>80</td>\n",
       "      <td>banana</td>\n",
       "      <td>8N-10P-8K</td>\n",
       "    </tr>\n",
       "  </tbody>\n",
       "</table>\n",
       "<p>102 rows × 8 columns</p>\n",
       "</div>"
      ]
     },
     "metadata": {},
     "execution_count": 37
    }
   ],
   "metadata": {}
  },
  {
   "cell_type": "code",
   "execution_count": 38,
   "source": [
    "# for null values\r\n",
    "fert.isnull().sum()"
   ],
   "outputs": [
    {
     "output_type": "execute_result",
     "data": {
      "text/plain": [
       "N              0\n",
       "K              0\n",
       "P              0\n",
       "temparature    0\n",
       "moisture       0\n",
       "humidity       0\n",
       "Crop           0\n",
       "Fertilizer     0\n",
       "dtype: int64"
      ]
     },
     "metadata": {},
     "execution_count": 38
    }
   ],
   "metadata": {}
  },
  {
   "cell_type": "code",
   "execution_count": 39,
   "source": [
    "fert[\"Crop\"] = fert[\"Crop\"].astype('category')\r\n",
    "fert.dtypes"
   ],
   "outputs": [
    {
     "output_type": "execute_result",
     "data": {
      "text/plain": [
       "N                 int64\n",
       "K                 int64\n",
       "P                 int64\n",
       "temparature       int64\n",
       "moisture          int64\n",
       "humidity          int64\n",
       "Crop           category\n",
       "Fertilizer       object\n",
       "dtype: object"
      ]
     },
     "metadata": {},
     "execution_count": 39
    }
   ],
   "metadata": {}
  },
  {
   "cell_type": "code",
   "execution_count": 40,
   "source": [
    "fert[\"Crop_cat\"] = fert[\"Crop\"].cat.codes\r\n",
    "fert.head()\r\n",
    "fert.to_csv('Fertilizer Prediction.csv')"
   ],
   "outputs": [],
   "metadata": {}
  },
  {
   "cell_type": "code",
   "execution_count": 41,
   "source": [
    "#Seperating features and target label\r\n",
    "features = fert[['N','K','P','Crop_cat' ]]\r\n",
    "target = fert['Fertilizer']"
   ],
   "outputs": [],
   "metadata": {}
  },
  {
   "cell_type": "code",
   "execution_count": 42,
   "source": [
    "# Splitting into train and test data\r\n",
    "from sklearn.model_selection import train_test_split\r\n",
    "Xtrain, Xtest, Ytrain, Ytest = train_test_split(features,target,test_size = 0.5,random_state =2)"
   ],
   "outputs": [],
   "metadata": {}
  },
  {
   "cell_type": "code",
   "execution_count": 43,
   "source": [
    "from sklearn.preprocessing import StandardScaler, LabelEncoder\r\n",
    "from sklearn.pipeline import make_pipeline\r\n",
    "from sklearn.neighbors import  KNeighborsClassifier\r\n",
    "error_rate = []\r\n",
    "for i in range(1, 50):\r\n",
    "#pipeline consisting of two stages. The first scales the features, and the second trains a classifier on the resulting dataset\r\n",
    "    pipeline = make_pipeline(StandardScaler(), KNeighborsClassifier(n_neighbors = i))\r\n",
    "    pipeline.fit(Xtrain, Ytrain)\r\n",
    "    predictions = pipeline.predict(Xtest)\r\n",
    "    accuracy = accuracy_score(Ytest, predictions)\r\n",
    "    print(f\"Accuracy at k = {i} is {accuracy}\")\r\n",
    "    error_rate.append(np.mean(predictions != Ytest)) \r\n"
   ],
   "outputs": [
    {
     "output_type": "stream",
     "name": "stdout",
     "text": [
      "Accuracy at k = 1 is 0.4117647058823529\n",
      "Accuracy at k = 2 is 0.5098039215686274\n",
      "Accuracy at k = 3 is 0.5294117647058824\n",
      "Accuracy at k = 4 is 0.5098039215686274\n",
      "Accuracy at k = 5 is 0.6078431372549019\n",
      "Accuracy at k = 6 is 0.6078431372549019\n",
      "Accuracy at k = 7 is 0.6078431372549019\n",
      "Accuracy at k = 8 is 0.6274509803921569\n",
      "Accuracy at k = 9 is 0.6078431372549019\n",
      "Accuracy at k = 10 is 0.5490196078431373\n",
      "Accuracy at k = 11 is 0.5294117647058824\n",
      "Accuracy at k = 12 is 0.49019607843137253\n",
      "Accuracy at k = 13 is 0.45098039215686275\n",
      "Accuracy at k = 14 is 0.47058823529411764\n",
      "Accuracy at k = 15 is 0.43137254901960786\n",
      "Accuracy at k = 16 is 0.45098039215686275\n",
      "Accuracy at k = 17 is 0.5294117647058824\n",
      "Accuracy at k = 18 is 0.49019607843137253\n",
      "Accuracy at k = 19 is 0.47058823529411764\n",
      "Accuracy at k = 20 is 0.45098039215686275\n",
      "Accuracy at k = 21 is 0.4117647058823529\n",
      "Accuracy at k = 22 is 0.35294117647058826\n",
      "Accuracy at k = 23 is 0.3333333333333333\n",
      "Accuracy at k = 24 is 0.3137254901960784\n",
      "Accuracy at k = 25 is 0.3137254901960784\n",
      "Accuracy at k = 26 is 0.3333333333333333\n",
      "Accuracy at k = 27 is 0.3137254901960784\n",
      "Accuracy at k = 28 is 0.3333333333333333\n",
      "Accuracy at k = 29 is 0.3137254901960784\n",
      "Accuracy at k = 30 is 0.29411764705882354\n",
      "Accuracy at k = 31 is 0.27450980392156865\n",
      "Accuracy at k = 32 is 0.27450980392156865\n",
      "Accuracy at k = 33 is 0.27450980392156865\n",
      "Accuracy at k = 34 is 0.27450980392156865\n",
      "Accuracy at k = 35 is 0.27450980392156865\n",
      "Accuracy at k = 36 is 0.27450980392156865\n",
      "Accuracy at k = 37 is 0.27450980392156865\n",
      "Accuracy at k = 38 is 0.27450980392156865\n",
      "Accuracy at k = 39 is 0.27450980392156865\n",
      "Accuracy at k = 40 is 0.27450980392156865\n",
      "Accuracy at k = 41 is 0.27450980392156865\n",
      "Accuracy at k = 42 is 0.27450980392156865\n",
      "Accuracy at k = 43 is 0.2549019607843137\n",
      "Accuracy at k = 44 is 0.2549019607843137\n",
      "Accuracy at k = 45 is 0.2549019607843137\n",
      "Accuracy at k = 46 is 0.2549019607843137\n",
      "Accuracy at k = 47 is 0.23529411764705882\n",
      "Accuracy at k = 48 is 0.21568627450980393\n",
      "Accuracy at k = 49 is 0.21568627450980393\n"
     ]
    }
   ],
   "metadata": {}
  },
  {
   "cell_type": "code",
   "execution_count": 44,
   "source": [
    "plt.figure(figsize=(10,6))\r\n",
    "plt.plot(range(1,50),error_rate,color='red', linestyle='dashed', \r\n",
    "         marker='o',markerfacecolor='blue', markersize=10)\r\n",
    "plt.title('Error Rate vs. K Value')\r\n",
    "plt.xlabel('K')\r\n",
    "plt.ylabel('Error Rate')\r\n",
    "print(\"Minimum error:-\",min(error_rate),\"at K =\",error_rate.index(min(error_rate))+1)"
   ],
   "outputs": [
    {
     "output_type": "stream",
     "name": "stdout",
     "text": [
      "Minimum error:- 0.37254901960784315 at K = 8\n"
     ]
    },
    {
     "output_type": "display_data",
     "data": {
      "text/plain": [
       "<Figure size 720x432 with 1 Axes>"
      ],
      "image/png": "[encoded data removed]"
     },
     "metadata": {
      "needs_background": "light"
     }
    }
   ],
   "metadata": {}
  },
  {
   "cell_type": "code",
   "execution_count": 45,
   "source": [
    "data = np.array([[7,9,30,1]])\r\n",
    "prediction = pipeline.predict(data)\r\n",
    "print(\"Recommended Fertilizer for given crop is:\",prediction)"
   ],
   "outputs": [
    {
     "output_type": "stream",
     "name": "stdout",
     "text": [
      "Recommended Fertilizer for given crop is: ['Urea']\n"
     ]
    }
   ],
   "metadata": {}
  },
  {
   "cell_type": "code",
   "execution_count": 46,
   "source": [
    "print(classification_report(Ytest,predictions))"
   ],
   "outputs": [
    {
     "output_type": "stream",
     "name": "stdout",
     "text": [
      "                  precision    recall  f1-score   support\n",
      "\n",
      "        10-26-26       0.00      0.00      0.00         2\n",
      "     10N-10P-10K       0.00      0.00      0.00         2\n",
      "        14-35-14       0.00      0.00      0.00         5\n",
      "        17-17-17       0.00      0.00      0.00         3\n",
      "           20-20       0.00      0.00      0.00         3\n",
      "     20N-10P-10K       0.00      0.00      0.00         1\n",
      "           28-28       0.00      0.00      0.00         7\n",
      "        6N-6P-6K       0.00      0.00      0.00         2\n",
      "       8N-10P-8K       0.00      0.00      0.00         1\n",
      "    8N-3P-9K-2Mg       0.00      0.00      0.00         2\n",
      "      Capsularis       0.00      0.00      0.00         1\n",
      "             DAP       0.00      0.00      0.00         5\n",
      "             FYM       0.00      0.00      0.00         3\n",
      "            Urea       0.22      1.00      0.36        11\n",
      "ammonium nitrate       0.00      0.00      0.00         1\n",
      "         compost       0.00      0.00      0.00         1\n",
      "            urea       0.00      0.00      0.00         1\n",
      "\n",
      "        accuracy                           0.22        51\n",
      "       macro avg       0.01      0.06      0.02        51\n",
      "    weighted avg       0.05      0.22      0.08        51\n",
      "\n"
     ]
    }
   ],
   "metadata": {}
  },
  {
   "cell_type": "code",
   "execution_count": null,
   "source": [],
   "outputs": [],
   "metadata": {}
  }
 ]
}